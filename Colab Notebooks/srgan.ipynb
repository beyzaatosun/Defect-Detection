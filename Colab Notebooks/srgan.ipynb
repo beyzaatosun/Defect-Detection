{
 "cells": [
  {
   "cell_type": "code",
   "execution_count": 6,
   "metadata": {
    "colab": {
     "base_uri": "https://localhost:8080/"
    },
    "executionInfo": {
     "elapsed": 16942,
     "status": "ok",
     "timestamp": 1636979029993,
     "user": {
      "displayName": "Berke Altıntaş",
      "photoUrl": "https://lh3.googleusercontent.com/a-/AOh14Gj664h1uZ2OxJoLDGEzkrlNlCY0aakBcI9jqGHr=s64",
      "userId": "08299105029402272170"
     },
     "user_tz": -180
    },
    "id": "7_VoaSn2MsMK",
    "outputId": "f45c0f90-a9a6-4648-8e98-69ad58d41acc"
   },
   "outputs": [
    {
     "name": "stdout",
     "output_type": "stream",
     "text": [
      "/\n",
      "Mounted at /content/gdrive\n"
     ]
    }
   ],
   "source": [
    "%cd ..\n",
    "from google.colab import drive\n",
    "drive.mount('/content/gdrive')"
   ]
  },
  {
   "cell_type": "code",
   "execution_count": 7,
   "metadata": {
    "colab": {
     "base_uri": "https://localhost:8080/"
    },
    "executionInfo": {
     "elapsed": 283,
     "status": "ok",
     "timestamp": 1636979031749,
     "user": {
      "displayName": "Berke Altıntaş",
      "photoUrl": "https://lh3.googleusercontent.com/a-/AOh14Gj664h1uZ2OxJoLDGEzkrlNlCY0aakBcI9jqGHr=s64",
      "userId": "08299105029402272170"
     },
     "user_tz": -180
    },
    "id": "rE35xsABM3qg",
    "outputId": "5a9a0116-2532-46dd-b683-8b6d1daba1b8"
   },
   "outputs": [
    {
     "name": "stdout",
     "output_type": "stream",
     "text": [
      "'Başlıksız form.gform'\t'Colab Notebooks'  'My Drive'   SRGAN   yolov4\n"
     ]
    }
   ],
   "source": [
    "!ln -s /content/gdrive/My\\ Drive/ /mydrive\n",
    "!ls /mydrive"
   ]
  },
  {
   "cell_type": "code",
   "execution_count": 8,
   "metadata": {
    "colab": {
     "base_uri": "https://localhost:8080/"
    },
    "executionInfo": {
     "elapsed": 318,
     "status": "ok",
     "timestamp": 1636979033404,
     "user": {
      "displayName": "Berke Altıntaş",
      "photoUrl": "https://lh3.googleusercontent.com/a-/AOh14Gj664h1uZ2OxJoLDGEzkrlNlCY0aakBcI9jqGHr=s64",
      "userId": "08299105029402272170"
     },
     "user_tz": -180
    },
    "id": "kx8qjXmjNMHy",
    "outputId": "1b23fb06-e620-4e1f-9b39-a8dea459efd6"
   },
   "outputs": [
    {
     "name": "stdout",
     "output_type": "stream",
     "text": [
      "bin\t dev   lib32  mydrive\t  root\tsys\t\t   usr\n",
      "boot\t etc   lib64  opt\t  run\ttensorflow-1.15.2  var\n",
      "content  home  media  proc\t  sbin\ttmp\n",
      "datalab  lib   mnt    python-apt  srv\ttools\n"
     ]
    }
   ],
   "source": [
    "!ls"
   ]
  },
  {
   "cell_type": "code",
   "execution_count": 9,
   "metadata": {
    "colab": {
     "base_uri": "https://localhost:8080/"
    },
    "executionInfo": {
     "elapsed": 9,
     "status": "ok",
     "timestamp": 1636979034560,
     "user": {
      "displayName": "Berke Altıntaş",
      "photoUrl": "https://lh3.googleusercontent.com/a-/AOh14Gj664h1uZ2OxJoLDGEzkrlNlCY0aakBcI9jqGHr=s64",
      "userId": "08299105029402272170"
     },
     "user_tz": -180
    },
    "id": "9sVIUjP2NPLg",
    "outputId": "fde297bd-d119-47b2-db0f-f66b5e6dba43"
   },
   "outputs": [
    {
     "name": "stdout",
     "output_type": "stream",
     "text": [
      "/content/gdrive/My Drive\n"
     ]
    }
   ],
   "source": [
    "%cd /mydrive"
   ]
  },
  {
   "cell_type": "code",
   "execution_count": 10,
   "metadata": {
    "colab": {
     "base_uri": "https://localhost:8080/"
    },
    "executionInfo": {
     "elapsed": 274,
     "status": "ok",
     "timestamp": 1636979036042,
     "user": {
      "displayName": "Berke Altıntaş",
      "photoUrl": "https://lh3.googleusercontent.com/a-/AOh14Gj664h1uZ2OxJoLDGEzkrlNlCY0aakBcI9jqGHr=s64",
      "userId": "08299105029402272170"
     },
     "user_tz": -180
    },
    "id": "azJvI_MNNXym",
    "outputId": "185a051c-6f98-46ec-c919-3fe27dd6bc7b"
   },
   "outputs": [
    {
     "name": "stdout",
     "output_type": "stream",
     "text": [
      "/content/gdrive/My Drive/SRGAN\n"
     ]
    }
   ],
   "source": [
    "%cd SRGAN"
   ]
  },
  {
   "cell_type": "code",
   "execution_count": null,
   "metadata": {
    "colab": {
     "base_uri": "https://localhost:8080/"
    },
    "executionInfo": {
     "elapsed": 244,
     "status": "ok",
     "timestamp": 1636662726099,
     "user": {
      "displayName": "Berke Altıntaş",
      "photoUrl": "https://lh3.googleusercontent.com/a-/AOh14Gj664h1uZ2OxJoLDGEzkrlNlCY0aakBcI9jqGHr=s64",
      "userId": "08299105029402272170"
     },
     "user_tz": -180
    },
    "id": "8PC3ev6zsLGu",
    "outputId": "92977933-a6ef-496a-d670-6299ca1b67a0"
   },
   "outputs": [
    {
     "name": "stdout",
     "output_type": "stream",
     "text": [
      "TensorFlow is already loaded. Please restart the runtime to change versions.\n"
     ]
    }
   ],
   "source": [
    "%tensorflow_version 1.x"
   ]
  },
  {
   "cell_type": "code",
   "execution_count": 11,
   "metadata": {
    "colab": {
     "base_uri": "https://localhost:8080/"
    },
    "executionInfo": {
     "elapsed": 1415,
     "status": "ok",
     "timestamp": 1636979039615,
     "user": {
      "displayName": "Berke Altıntaş",
      "photoUrl": "https://lh3.googleusercontent.com/a-/AOh14Gj664h1uZ2OxJoLDGEzkrlNlCY0aakBcI9jqGHr=s64",
      "userId": "08299105029402272170"
     },
     "user_tz": -180
    },
    "id": "mwEWhGK8r6HW",
    "outputId": "ebdbfc03-9068-4fda-d929-4e12dc4bd583"
   },
   "outputs": [
    {
     "name": "stderr",
     "output_type": "stream",
     "text": [
      "/usr/local/lib/python3.7/dist-packages/tensorflow/python/framework/dtypes.py:516: FutureWarning: Passing (type, 1) or '1type' as a synonym of type is deprecated; in a future version of numpy, it will be understood as (type, (1,)) / '(1,)type'.\n",
      "  _np_qint8 = np.dtype([(\"qint8\", np.int8, 1)])\n",
      "/usr/local/lib/python3.7/dist-packages/tensorflow/python/framework/dtypes.py:517: FutureWarning: Passing (type, 1) or '1type' as a synonym of type is deprecated; in a future version of numpy, it will be understood as (type, (1,)) / '(1,)type'.\n",
      "  _np_quint8 = np.dtype([(\"quint8\", np.uint8, 1)])\n",
      "/usr/local/lib/python3.7/dist-packages/tensorflow/python/framework/dtypes.py:518: FutureWarning: Passing (type, 1) or '1type' as a synonym of type is deprecated; in a future version of numpy, it will be understood as (type, (1,)) / '(1,)type'.\n",
      "  _np_qint16 = np.dtype([(\"qint16\", np.int16, 1)])\n",
      "/usr/local/lib/python3.7/dist-packages/tensorflow/python/framework/dtypes.py:519: FutureWarning: Passing (type, 1) or '1type' as a synonym of type is deprecated; in a future version of numpy, it will be understood as (type, (1,)) / '(1,)type'.\n",
      "  _np_quint16 = np.dtype([(\"quint16\", np.uint16, 1)])\n",
      "/usr/local/lib/python3.7/dist-packages/tensorflow/python/framework/dtypes.py:520: FutureWarning: Passing (type, 1) or '1type' as a synonym of type is deprecated; in a future version of numpy, it will be understood as (type, (1,)) / '(1,)type'.\n",
      "  _np_qint32 = np.dtype([(\"qint32\", np.int32, 1)])\n",
      "/usr/local/lib/python3.7/dist-packages/tensorflow/python/framework/dtypes.py:525: FutureWarning: Passing (type, 1) or '1type' as a synonym of type is deprecated; in a future version of numpy, it will be understood as (type, (1,)) / '(1,)type'.\n",
      "  np_resource = np.dtype([(\"resource\", np.ubyte, 1)])\n"
     ]
    },
    {
     "name": "stdout",
     "output_type": "stream",
     "text": [
      "1.14.0\n"
     ]
    },
    {
     "name": "stderr",
     "output_type": "stream",
     "text": [
      "/usr/local/lib/python3.7/dist-packages/tensorboard/compat/tensorflow_stub/dtypes.py:541: FutureWarning: Passing (type, 1) or '1type' as a synonym of type is deprecated; in a future version of numpy, it will be understood as (type, (1,)) / '(1,)type'.\n",
      "  _np_qint8 = np.dtype([(\"qint8\", np.int8, 1)])\n",
      "/usr/local/lib/python3.7/dist-packages/tensorboard/compat/tensorflow_stub/dtypes.py:542: FutureWarning: Passing (type, 1) or '1type' as a synonym of type is deprecated; in a future version of numpy, it will be understood as (type, (1,)) / '(1,)type'.\n",
      "  _np_quint8 = np.dtype([(\"quint8\", np.uint8, 1)])\n",
      "/usr/local/lib/python3.7/dist-packages/tensorboard/compat/tensorflow_stub/dtypes.py:543: FutureWarning: Passing (type, 1) or '1type' as a synonym of type is deprecated; in a future version of numpy, it will be understood as (type, (1,)) / '(1,)type'.\n",
      "  _np_qint16 = np.dtype([(\"qint16\", np.int16, 1)])\n",
      "/usr/local/lib/python3.7/dist-packages/tensorboard/compat/tensorflow_stub/dtypes.py:544: FutureWarning: Passing (type, 1) or '1type' as a synonym of type is deprecated; in a future version of numpy, it will be understood as (type, (1,)) / '(1,)type'.\n",
      "  _np_quint16 = np.dtype([(\"quint16\", np.uint16, 1)])\n",
      "/usr/local/lib/python3.7/dist-packages/tensorboard/compat/tensorflow_stub/dtypes.py:545: FutureWarning: Passing (type, 1) or '1type' as a synonym of type is deprecated; in a future version of numpy, it will be understood as (type, (1,)) / '(1,)type'.\n",
      "  _np_qint32 = np.dtype([(\"qint32\", np.int32, 1)])\n",
      "/usr/local/lib/python3.7/dist-packages/tensorboard/compat/tensorflow_stub/dtypes.py:550: FutureWarning: Passing (type, 1) or '1type' as a synonym of type is deprecated; in a future version of numpy, it will be understood as (type, (1,)) / '(1,)type'.\n",
      "  np_resource = np.dtype([(\"resource\", np.ubyte, 1)])\n"
     ]
    }
   ],
   "source": [
    "import tensorflow\n",
    "print(tensorflow.__version__)"
   ]
  },
  {
   "cell_type": "code",
   "execution_count": 6,
   "metadata": {
    "colab": {
     "base_uri": "https://localhost:8080/"
    },
    "executionInfo": {
     "elapsed": 293,
     "status": "ok",
     "timestamp": 1636954706308,
     "user": {
      "displayName": "Berke Altıntaş",
      "photoUrl": "https://lh3.googleusercontent.com/a-/AOh14Gj664h1uZ2OxJoLDGEzkrlNlCY0aakBcI9jqGHr=s64",
      "userId": "08299105029402272170"
     },
     "user_tz": -180
    },
    "id": "mfgfyT9ZGkmg",
    "outputId": "0d02bf98-f4d3-401a-f8a5-20a4d4e79a6b"
   },
   "outputs": [
    {
     "name": "stdout",
     "output_type": "stream",
     "text": [
      "Mon Nov 15 05:38:27 2021       \n",
      "+-----------------------------------------------------------------------------+\n",
      "| NVIDIA-SMI 495.44       Driver Version: 460.32.03    CUDA Version: 11.2     |\n",
      "|-------------------------------+----------------------+----------------------+\n",
      "| GPU  Name        Persistence-M| Bus-Id        Disp.A | Volatile Uncorr. ECC |\n",
      "| Fan  Temp  Perf  Pwr:Usage/Cap|         Memory-Usage | GPU-Util  Compute M. |\n",
      "|                               |                      |               MIG M. |\n",
      "|===============================+======================+======================|\n",
      "|   0  Tesla P100-PCIE...  Off  | 00000000:00:04.0 Off |                    0 |\n",
      "| N/A   43C    P0    27W / 250W |      0MiB / 16280MiB |      0%      Default |\n",
      "|                               |                      |                  N/A |\n",
      "+-------------------------------+----------------------+----------------------+\n",
      "                                                                               \n",
      "+-----------------------------------------------------------------------------+\n",
      "| Processes:                                                                  |\n",
      "|  GPU   GI   CI        PID   Type   Process name                  GPU Memory |\n",
      "|        ID   ID                                                   Usage      |\n",
      "|=============================================================================|\n",
      "|  No running processes found                                                 |\n",
      "+-----------------------------------------------------------------------------+\n"
     ]
    }
   ],
   "source": [
    "gpu_info = !nvidia-smi\n",
    "gpu_info = '\\n'.join(gpu_info)\n",
    "if gpu_info.find('failed') >= 0:\n",
    "  print('Not connected to a GPU')\n",
    "else:\n",
    "  print(gpu_info)"
   ]
  },
  {
   "cell_type": "code",
   "execution_count": 2,
   "metadata": {
    "colab": {
     "base_uri": "https://localhost:8080/"
    },
    "executionInfo": {
     "elapsed": 42761,
     "status": "ok",
     "timestamp": 1636978964573,
     "user": {
      "displayName": "Berke Altıntaş",
      "photoUrl": "https://lh3.googleusercontent.com/a-/AOh14Gj664h1uZ2OxJoLDGEzkrlNlCY0aakBcI9jqGHr=s64",
      "userId": "08299105029402272170"
     },
     "user_tz": -180
    },
    "id": "kwzUdeaptDQl",
    "outputId": "1421e85b-b84d-465a-c67c-ca949e7d8e24"
   },
   "outputs": [
    {
     "name": "stdout",
     "output_type": "stream",
     "text": [
      "Collecting tensorflow==1.14.0\n",
      "  Downloading tensorflow-1.14.0-cp37-cp37m-manylinux1_x86_64.whl (109.3 MB)\n",
      "\u001b[K     |████████████████████████████████| 109.3 MB 25 kB/s \n",
      "\u001b[?25hCollecting keras-applications>=1.0.6\n",
      "  Downloading Keras_Applications-1.0.8-py3-none-any.whl (50 kB)\n",
      "\u001b[K     |████████████████████████████████| 50 kB 8.1 MB/s \n",
      "\u001b[?25hRequirement already satisfied: six>=1.10.0 in /usr/local/lib/python3.7/dist-packages (from tensorflow==1.14.0) (1.15.0)\n",
      "Requirement already satisfied: termcolor>=1.1.0 in /usr/local/lib/python3.7/dist-packages (from tensorflow==1.14.0) (1.1.0)\n",
      "Requirement already satisfied: wrapt>=1.11.1 in /usr/local/lib/python3.7/dist-packages (from tensorflow==1.14.0) (1.13.3)\n",
      "Requirement already satisfied: astor>=0.6.0 in /usr/local/lib/python3.7/dist-packages (from tensorflow==1.14.0) (0.8.1)\n",
      "Requirement already satisfied: protobuf>=3.6.1 in /usr/local/lib/python3.7/dist-packages (from tensorflow==1.14.0) (3.17.3)\n",
      "Requirement already satisfied: wheel>=0.26 in /usr/local/lib/python3.7/dist-packages (from tensorflow==1.14.0) (0.37.0)\n",
      "Requirement already satisfied: numpy<2.0,>=1.14.5 in /usr/local/lib/python3.7/dist-packages (from tensorflow==1.14.0) (1.19.5)\n",
      "Requirement already satisfied: absl-py>=0.7.0 in /usr/local/lib/python3.7/dist-packages (from tensorflow==1.14.0) (0.12.0)\n",
      "Collecting tensorflow-estimator<1.15.0rc0,>=1.14.0rc0\n",
      "  Downloading tensorflow_estimator-1.14.0-py2.py3-none-any.whl (488 kB)\n",
      "\u001b[K     |████████████████████████████████| 488 kB 32.6 MB/s \n",
      "\u001b[?25hRequirement already satisfied: grpcio>=1.8.6 in /usr/local/lib/python3.7/dist-packages (from tensorflow==1.14.0) (1.41.1)\n",
      "Requirement already satisfied: keras-preprocessing>=1.0.5 in /usr/local/lib/python3.7/dist-packages (from tensorflow==1.14.0) (1.1.2)\n",
      "Collecting tensorboard<1.15.0,>=1.14.0\n",
      "  Downloading tensorboard-1.14.0-py3-none-any.whl (3.1 MB)\n",
      "\u001b[K     |████████████████████████████████| 3.1 MB 76.8 MB/s \n",
      "\u001b[?25hRequirement already satisfied: google-pasta>=0.1.6 in /usr/local/lib/python3.7/dist-packages (from tensorflow==1.14.0) (0.2.0)\n",
      "Requirement already satisfied: gast>=0.2.0 in /usr/local/lib/python3.7/dist-packages (from tensorflow==1.14.0) (0.4.0)\n",
      "Requirement already satisfied: h5py in /usr/local/lib/python3.7/dist-packages (from keras-applications>=1.0.6->tensorflow==1.14.0) (2.10.0)\n",
      "Requirement already satisfied: markdown>=2.6.8 in /usr/local/lib/python3.7/dist-packages (from tensorboard<1.15.0,>=1.14.0->tensorflow==1.14.0) (3.3.4)\n",
      "Requirement already satisfied: setuptools>=41.0.0 in /usr/local/lib/python3.7/dist-packages (from tensorboard<1.15.0,>=1.14.0->tensorflow==1.14.0) (57.4.0)\n",
      "Requirement already satisfied: werkzeug>=0.11.15 in /usr/local/lib/python3.7/dist-packages (from tensorboard<1.15.0,>=1.14.0->tensorflow==1.14.0) (1.0.1)\n",
      "Requirement already satisfied: importlib-metadata in /usr/local/lib/python3.7/dist-packages (from markdown>=2.6.8->tensorboard<1.15.0,>=1.14.0->tensorflow==1.14.0) (4.8.2)\n",
      "Requirement already satisfied: typing-extensions>=3.6.4 in /usr/local/lib/python3.7/dist-packages (from importlib-metadata->markdown>=2.6.8->tensorboard<1.15.0,>=1.14.0->tensorflow==1.14.0) (3.10.0.2)\n",
      "Requirement already satisfied: zipp>=0.5 in /usr/local/lib/python3.7/dist-packages (from importlib-metadata->markdown>=2.6.8->tensorboard<1.15.0,>=1.14.0->tensorflow==1.14.0) (3.6.0)\n",
      "Installing collected packages: tensorflow-estimator, tensorboard, keras-applications, tensorflow\n",
      "  Attempting uninstall: tensorflow-estimator\n",
      "    Found existing installation: tensorflow-estimator 2.7.0\n",
      "    Uninstalling tensorflow-estimator-2.7.0:\n",
      "      Successfully uninstalled tensorflow-estimator-2.7.0\n",
      "  Attempting uninstall: tensorboard\n",
      "    Found existing installation: tensorboard 2.7.0\n",
      "    Uninstalling tensorboard-2.7.0:\n",
      "      Successfully uninstalled tensorboard-2.7.0\n",
      "  Attempting uninstall: tensorflow\n",
      "    Found existing installation: tensorflow 2.7.0\n",
      "    Uninstalling tensorflow-2.7.0:\n",
      "      Successfully uninstalled tensorflow-2.7.0\n",
      "\u001b[31mERROR: pip's dependency resolver does not currently take into account all the packages that are installed. This behaviour is the source of the following dependency conflicts.\n",
      "kapre 0.3.5 requires tensorflow>=2.0.0, but you have tensorflow 1.14.0 which is incompatible.\u001b[0m\n",
      "Successfully installed keras-applications-1.0.8 tensorboard-1.14.0 tensorflow-1.14.0 tensorflow-estimator-1.14.0\n"
     ]
    }
   ],
   "source": [
    "!pip install tensorflow==1.14.0"
   ]
  },
  {
   "cell_type": "code",
   "execution_count": 3,
   "metadata": {
    "colab": {
     "base_uri": "https://localhost:8080/"
    },
    "executionInfo": {
     "elapsed": 37432,
     "status": "ok",
     "timestamp": 1636979002001,
     "user": {
      "displayName": "Berke Altıntaş",
      "photoUrl": "https://lh3.googleusercontent.com/a-/AOh14Gj664h1uZ2OxJoLDGEzkrlNlCY0aakBcI9jqGHr=s64",
      "userId": "08299105029402272170"
     },
     "user_tz": -180
    },
    "id": "C-xCnnB2x-5_",
    "outputId": "16ebca33-a33c-4ebe-bb79-bc4a43be6785"
   },
   "outputs": [
    {
     "name": "stdout",
     "output_type": "stream",
     "text": [
      "Collecting tensorflow-gpu==1.14.0\n",
      "  Downloading tensorflow_gpu-1.14.0-cp37-cp37m-manylinux1_x86_64.whl (377.1 MB)\n",
      "\u001b[K     |████████████████████████████████| 377.1 MB 7.8 kB/s \n",
      "\u001b[?25hRequirement already satisfied: numpy<2.0,>=1.14.5 in /usr/local/lib/python3.7/dist-packages (from tensorflow-gpu==1.14.0) (1.19.5)\n",
      "Requirement already satisfied: keras-applications>=1.0.6 in /usr/local/lib/python3.7/dist-packages (from tensorflow-gpu==1.14.0) (1.0.8)\n",
      "Requirement already satisfied: gast>=0.2.0 in /usr/local/lib/python3.7/dist-packages (from tensorflow-gpu==1.14.0) (0.4.0)\n",
      "Requirement already satisfied: astor>=0.6.0 in /usr/local/lib/python3.7/dist-packages (from tensorflow-gpu==1.14.0) (0.8.1)\n",
      "Requirement already satisfied: wheel>=0.26 in /usr/local/lib/python3.7/dist-packages (from tensorflow-gpu==1.14.0) (0.37.0)\n",
      "Requirement already satisfied: termcolor>=1.1.0 in /usr/local/lib/python3.7/dist-packages (from tensorflow-gpu==1.14.0) (1.1.0)\n",
      "Requirement already satisfied: wrapt>=1.11.1 in /usr/local/lib/python3.7/dist-packages (from tensorflow-gpu==1.14.0) (1.13.3)\n",
      "Requirement already satisfied: google-pasta>=0.1.6 in /usr/local/lib/python3.7/dist-packages (from tensorflow-gpu==1.14.0) (0.2.0)\n",
      "Requirement already satisfied: grpcio>=1.8.6 in /usr/local/lib/python3.7/dist-packages (from tensorflow-gpu==1.14.0) (1.41.1)\n",
      "Requirement already satisfied: tensorboard<1.15.0,>=1.14.0 in /usr/local/lib/python3.7/dist-packages (from tensorflow-gpu==1.14.0) (1.14.0)\n",
      "Requirement already satisfied: keras-preprocessing>=1.0.5 in /usr/local/lib/python3.7/dist-packages (from tensorflow-gpu==1.14.0) (1.1.2)\n",
      "Requirement already satisfied: protobuf>=3.6.1 in /usr/local/lib/python3.7/dist-packages (from tensorflow-gpu==1.14.0) (3.17.3)\n",
      "Requirement already satisfied: six>=1.10.0 in /usr/local/lib/python3.7/dist-packages (from tensorflow-gpu==1.14.0) (1.15.0)\n",
      "Requirement already satisfied: tensorflow-estimator<1.15.0rc0,>=1.14.0rc0 in /usr/local/lib/python3.7/dist-packages (from tensorflow-gpu==1.14.0) (1.14.0)\n",
      "Requirement already satisfied: absl-py>=0.7.0 in /usr/local/lib/python3.7/dist-packages (from tensorflow-gpu==1.14.0) (0.12.0)\n",
      "Requirement already satisfied: h5py in /usr/local/lib/python3.7/dist-packages (from keras-applications>=1.0.6->tensorflow-gpu==1.14.0) (2.10.0)\n",
      "Requirement already satisfied: werkzeug>=0.11.15 in /usr/local/lib/python3.7/dist-packages (from tensorboard<1.15.0,>=1.14.0->tensorflow-gpu==1.14.0) (1.0.1)\n",
      "Requirement already satisfied: markdown>=2.6.8 in /usr/local/lib/python3.7/dist-packages (from tensorboard<1.15.0,>=1.14.0->tensorflow-gpu==1.14.0) (3.3.4)\n",
      "Requirement already satisfied: setuptools>=41.0.0 in /usr/local/lib/python3.7/dist-packages (from tensorboard<1.15.0,>=1.14.0->tensorflow-gpu==1.14.0) (57.4.0)\n",
      "Requirement already satisfied: importlib-metadata in /usr/local/lib/python3.7/dist-packages (from markdown>=2.6.8->tensorboard<1.15.0,>=1.14.0->tensorflow-gpu==1.14.0) (4.8.2)\n",
      "Requirement already satisfied: zipp>=0.5 in /usr/local/lib/python3.7/dist-packages (from importlib-metadata->markdown>=2.6.8->tensorboard<1.15.0,>=1.14.0->tensorflow-gpu==1.14.0) (3.6.0)\n",
      "Requirement already satisfied: typing-extensions>=3.6.4 in /usr/local/lib/python3.7/dist-packages (from importlib-metadata->markdown>=2.6.8->tensorboard<1.15.0,>=1.14.0->tensorflow-gpu==1.14.0) (3.10.0.2)\n",
      "Installing collected packages: tensorflow-gpu\n",
      "Successfully installed tensorflow-gpu-1.14.0\n"
     ]
    }
   ],
   "source": [
    "!pip install tensorflow-gpu==1.14.0"
   ]
  },
  {
   "cell_type": "code",
   "execution_count": 4,
   "metadata": {
    "colab": {
     "base_uri": "https://localhost:8080/"
    },
    "executionInfo": {
     "elapsed": 3659,
     "status": "ok",
     "timestamp": 1636979005656,
     "user": {
      "displayName": "Berke Altıntaş",
      "photoUrl": "https://lh3.googleusercontent.com/a-/AOh14Gj664h1uZ2OxJoLDGEzkrlNlCY0aakBcI9jqGHr=s64",
      "userId": "08299105029402272170"
     },
     "user_tz": -180
    },
    "id": "t1r8n3WluJa-",
    "outputId": "f524ed1b-c48d-402d-bf9b-dc8e90183eeb"
   },
   "outputs": [
    {
     "name": "stdout",
     "output_type": "stream",
     "text": [
      "Collecting keras==2.3.1\n",
      "  Downloading Keras-2.3.1-py2.py3-none-any.whl (377 kB)\n",
      "\u001b[?25l\r",
      "\u001b[K     |▉                               | 10 kB 24.9 MB/s eta 0:00:01\r",
      "\u001b[K     |█▊                              | 20 kB 30.5 MB/s eta 0:00:01\r",
      "\u001b[K     |██▋                             | 30 kB 22.8 MB/s eta 0:00:01\r",
      "\u001b[K     |███▌                            | 40 kB 17.7 MB/s eta 0:00:01\r",
      "\u001b[K     |████▍                           | 51 kB 9.4 MB/s eta 0:00:01\r",
      "\u001b[K     |█████▏                          | 61 kB 7.9 MB/s eta 0:00:01\r",
      "\u001b[K     |██████                          | 71 kB 8.6 MB/s eta 0:00:01\r",
      "\u001b[K     |███████                         | 81 kB 9.6 MB/s eta 0:00:01\r",
      "\u001b[K     |███████▉                        | 92 kB 10.4 MB/s eta 0:00:01\r",
      "\u001b[K     |████████▊                       | 102 kB 8.6 MB/s eta 0:00:01\r",
      "\u001b[K     |█████████▌                      | 112 kB 8.6 MB/s eta 0:00:01\r",
      "\u001b[K     |██████████▍                     | 122 kB 8.6 MB/s eta 0:00:01\r",
      "\u001b[K     |███████████▎                    | 133 kB 8.6 MB/s eta 0:00:01\r",
      "\u001b[K     |████████████▏                   | 143 kB 8.6 MB/s eta 0:00:01\r",
      "\u001b[K     |█████████████                   | 153 kB 8.6 MB/s eta 0:00:01\r",
      "\u001b[K     |█████████████▉                  | 163 kB 8.6 MB/s eta 0:00:01\r",
      "\u001b[K     |██████████████▊                 | 174 kB 8.6 MB/s eta 0:00:01\r",
      "\u001b[K     |███████████████▋                | 184 kB 8.6 MB/s eta 0:00:01\r",
      "\u001b[K     |████████████████▌               | 194 kB 8.6 MB/s eta 0:00:01\r",
      "\u001b[K     |█████████████████▍              | 204 kB 8.6 MB/s eta 0:00:01\r",
      "\u001b[K     |██████████████████▏             | 215 kB 8.6 MB/s eta 0:00:01\r",
      "\u001b[K     |███████████████████             | 225 kB 8.6 MB/s eta 0:00:01\r",
      "\u001b[K     |████████████████████            | 235 kB 8.6 MB/s eta 0:00:01\r",
      "\u001b[K     |████████████████████▉           | 245 kB 8.6 MB/s eta 0:00:01\r",
      "\u001b[K     |█████████████████████▊          | 256 kB 8.6 MB/s eta 0:00:01\r",
      "\u001b[K     |██████████████████████▌         | 266 kB 8.6 MB/s eta 0:00:01\r",
      "\u001b[K     |███████████████████████▍        | 276 kB 8.6 MB/s eta 0:00:01\r",
      "\u001b[K     |████████████████████████▎       | 286 kB 8.6 MB/s eta 0:00:01\r",
      "\u001b[K     |█████████████████████████▏      | 296 kB 8.6 MB/s eta 0:00:01\r",
      "\u001b[K     |██████████████████████████      | 307 kB 8.6 MB/s eta 0:00:01\r",
      "\u001b[K     |██████████████████████████▉     | 317 kB 8.6 MB/s eta 0:00:01\r",
      "\u001b[K     |███████████████████████████▊    | 327 kB 8.6 MB/s eta 0:00:01\r",
      "\u001b[K     |████████████████████████████▋   | 337 kB 8.6 MB/s eta 0:00:01\r",
      "\u001b[K     |█████████████████████████████▌  | 348 kB 8.6 MB/s eta 0:00:01\r",
      "\u001b[K     |██████████████████████████████▍ | 358 kB 8.6 MB/s eta 0:00:01\r",
      "\u001b[K     |███████████████████████████████▏| 368 kB 8.6 MB/s eta 0:00:01\r",
      "\u001b[K     |████████████████████████████████| 377 kB 8.6 MB/s \n",
      "\u001b[?25hRequirement already satisfied: h5py in /usr/local/lib/python3.7/dist-packages (from keras==2.3.1) (2.10.0)\n",
      "Requirement already satisfied: scipy>=0.14 in /usr/local/lib/python3.7/dist-packages (from keras==2.3.1) (1.4.1)\n",
      "Requirement already satisfied: pyyaml in /usr/local/lib/python3.7/dist-packages (from keras==2.3.1) (3.13)\n",
      "Requirement already satisfied: keras-preprocessing>=1.0.5 in /usr/local/lib/python3.7/dist-packages (from keras==2.3.1) (1.1.2)\n",
      "Requirement already satisfied: keras-applications>=1.0.6 in /usr/local/lib/python3.7/dist-packages (from keras==2.3.1) (1.0.8)\n",
      "Requirement already satisfied: numpy>=1.9.1 in /usr/local/lib/python3.7/dist-packages (from keras==2.3.1) (1.19.5)\n",
      "Requirement already satisfied: six>=1.9.0 in /usr/local/lib/python3.7/dist-packages (from keras==2.3.1) (1.15.0)\n",
      "Installing collected packages: keras\n",
      "  Attempting uninstall: keras\n",
      "    Found existing installation: keras 2.7.0\n",
      "    Uninstalling keras-2.7.0:\n",
      "      Successfully uninstalled keras-2.7.0\n",
      "Successfully installed keras-2.3.1\n"
     ]
    }
   ],
   "source": [
    "pip install keras==2.3.1"
   ]
  },
  {
   "cell_type": "code",
   "execution_count": 5,
   "metadata": {
    "colab": {
     "base_uri": "https://localhost:8080/"
    },
    "executionInfo": {
     "elapsed": 2343,
     "status": "ok",
     "timestamp": 1636979007995,
     "user": {
      "displayName": "Berke Altıntaş",
      "photoUrl": "https://lh3.googleusercontent.com/a-/AOh14Gj664h1uZ2OxJoLDGEzkrlNlCY0aakBcI9jqGHr=s64",
      "userId": "08299105029402272170"
     },
     "user_tz": -180
    },
    "id": "JZyGPfmhs0q1",
    "outputId": "4945f0d4-60a9-40c4-84df-b644de3f9ed3"
   },
   "outputs": [
    {
     "name": "stdout",
     "output_type": "stream",
     "text": [
      "Requirement already satisfied: matplotlib in /usr/local/lib/python3.7/dist-packages (3.2.2)\n",
      "Requirement already satisfied: python-dateutil>=2.1 in /usr/local/lib/python3.7/dist-packages (from matplotlib) (2.8.2)\n",
      "Requirement already satisfied: pyparsing!=2.0.4,!=2.1.2,!=2.1.6,>=2.0.1 in /usr/local/lib/python3.7/dist-packages (from matplotlib) (2.4.7)\n",
      "Requirement already satisfied: cycler>=0.10 in /usr/local/lib/python3.7/dist-packages (from matplotlib) (0.11.0)\n",
      "Requirement already satisfied: numpy>=1.11 in /usr/local/lib/python3.7/dist-packages (from matplotlib) (1.19.5)\n",
      "Requirement already satisfied: kiwisolver>=1.0.1 in /usr/local/lib/python3.7/dist-packages (from matplotlib) (1.3.2)\n",
      "Requirement already satisfied: six>=1.5 in /usr/local/lib/python3.7/dist-packages (from python-dateutil>=2.1->matplotlib) (1.15.0)\n"
     ]
    }
   ],
   "source": [
    "pip install matplotlib"
   ]
  },
  {
   "cell_type": "code",
   "execution_count": 1,
   "metadata": {
    "colab": {
     "base_uri": "https://localhost:8080/"
    },
    "executionInfo": {
     "elapsed": 4323,
     "status": "ok",
     "timestamp": 1636978894788,
     "user": {
      "displayName": "Berke Altıntaş",
      "photoUrl": "https://lh3.googleusercontent.com/a-/AOh14Gj664h1uZ2OxJoLDGEzkrlNlCY0aakBcI9jqGHr=s64",
      "userId": "08299105029402272170"
     },
     "user_tz": -180
    },
    "id": "dNZvM9eJaV5I",
    "outputId": "ce15701d-d2b9-453f-8e7c-d33d4e168a03"
   },
   "outputs": [
    {
     "name": "stdout",
     "output_type": "stream",
     "text": [
      "Collecting h5py<3.0.0\n",
      "  Downloading h5py-2.10.0-cp37-cp37m-manylinux1_x86_64.whl (2.9 MB)\n",
      "\u001b[K     |████████████████████████████████| 2.9 MB 7.1 MB/s \n",
      "\u001b[?25hRequirement already satisfied: six in /usr/local/lib/python3.7/dist-packages (from h5py<3.0.0) (1.15.0)\n",
      "Requirement already satisfied: numpy>=1.7 in /usr/local/lib/python3.7/dist-packages (from h5py<3.0.0) (1.19.5)\n",
      "Installing collected packages: h5py\n",
      "  Attempting uninstall: h5py\n",
      "    Found existing installation: h5py 3.1.0\n",
      "    Uninstalling h5py-3.1.0:\n",
      "      Successfully uninstalled h5py-3.1.0\n",
      "Successfully installed h5py-2.10.0\n"
     ]
    }
   ],
   "source": [
    "pip install 'h5py<3.0.0'"
   ]
  },
  {
   "cell_type": "code",
   "execution_count": 12,
   "metadata": {
    "colab": {
     "base_uri": "https://localhost:8080/"
    },
    "executionInfo": {
     "elapsed": 70030046,
     "status": "ok",
     "timestamp": 1637049082680,
     "user": {
      "displayName": "Berke Altıntaş",
      "photoUrl": "https://lh3.googleusercontent.com/a-/AOh14Gj664h1uZ2OxJoLDGEzkrlNlCY0aakBcI9jqGHr=s64",
      "userId": "08299105029402272170"
     },
     "user_tz": -180
    },
    "id": "JSM1rd7-Ndk8",
    "outputId": "84307b97-3da8-4a48-f907-d5f926dbe708"
   },
   "outputs": [
    {
     "name": "stdout",
     "output_type": "stream",
     "text": [
      "WARNING:tensorflow:From /content/gdrive/My Drive/SRGAN/srgan.py:123: The name tf.depth_to_space is deprecated. Please use tf.compat.v1.depth_to_space instead.\n",
      "\n",
      "WARNING:tensorflow:From /usr/local/lib/python3.7/dist-packages/keras/backend/tensorflow_backend.py:4070: The name tf.nn.max_pool is deprecated. Please use tf.nn.max_pool2d instead.\n",
      "\n",
      "Downloading data from https://github.com/fchollet/deep-learning-models/releases/download/v0.1/vgg19_weights_tf_dim_ordering_tf_kernels.h5\n",
      "574717952/574710816 [==============================] - 9s 0us/step\n",
      "WARNING:tensorflow:From /usr/local/lib/python3.7/dist-packages/tensorflow/python/ops/nn_impl.py:180: add_dispatch_support.<locals>.wrapper (from tensorflow.python.ops.array_ops) is deprecated and will be removed in a future version.\n",
      "Instructions for updating:\n",
      "Use tf.where in 2.0, which has the same broadcast rule as np.where\n",
      ">> Found 1656 images in dataset\n",
      ">> Found 72 images in dataset\n",
      "WARNING:tensorflow:From /usr/local/lib/python3.7/dist-packages/keras/backend/tensorflow_backend.py:422: The name tf.global_variables is deprecated. Please use tf.compat.v1.global_variables instead.\n",
      "\n",
      "WARNING:tensorflow:From /usr/local/lib/python3.7/dist-packages/keras/callbacks/tensorboard_v1.py:200: The name tf.summary.merge_all is deprecated. Please use tf.compat.v1.summary.merge_all instead.\n",
      "\n",
      "WARNING:tensorflow:From /usr/local/lib/python3.7/dist-packages/keras/callbacks/tensorboard_v1.py:206: The name tf.summary.FileWriter is deprecated. Please use tf.compat.v1.summary.FileWriter instead.\n",
      "\n",
      "Epoch 1/1\n",
      "    63/100000 [..............................] - ETA: 18:39:29 - loss: 0.1197 - mse: 0.1197 - PSNR: 10.4486WARNING:tensorflow:From /usr/local/lib/python3.7/dist-packages/keras/callbacks/tensorboard_v1.py:343: The name tf.Summary is deprecated. Please use tf.compat.v1.Summary instead.\n",
      "\n",
      "100000/100000 [==============================] - 6310s 63ms/step - loss: 0.0042 - mse: 0.0042 - PSNR: 26.2742 - val_loss: 0.0010 - val_mse: 0.0034 - val_PSNR: 27.0831\n",
      ">> Could not perform printing. Maybe matplotlib is not installed.\n",
      ">> Found 1656 images in dataset\n",
      ">> Found 72 images in dataset\n"
     ]
    },
    {
     "name": "stderr",
     "output_type": "stream",
     "text": [
      "/usr/local/lib/python3.7/dist-packages/keras/engine/training.py:297: UserWarning: Discrepancy between trainable weights and collected trainable weights, did you set `model.trainable` without calling `model.compile` after ?\n",
      "  'Discrepancy between trainable weights and collected trainable'\n",
      "/usr/local/lib/python3.7/dist-packages/keras/engine/training.py:297: UserWarning: Discrepancy between trainable weights and collected trainable weights, did you set `model.trainable` without calling `model.compile` after ?\n",
      "  'Discrepancy between trainable weights and collected trainable'\n"
     ]
    },
    {
     "name": "stdout",
     "output_type": "stream",
     "text": [
      "\n",
      "Epoch 1000000/1100000 | Time: 29s\n",
      ">> Generator/GAN: loss=0.0095, Adversarial_loss=0.6744, Content_loss=1.4658\n",
      ">> Discriminator: loss=0.9733, accuracy=0.4141\n",
      ">> Validation Losses: loss=0.0014, mse=0.0036, PSNR=26.5758\n",
      ">> Could not perform printing. Maybe matplotlib is not installed.\n"
     ]
    },
    {
     "name": "stderr",
     "output_type": "stream",
     "text": [
      "/usr/local/lib/python3.7/dist-packages/keras/engine/training.py:297: UserWarning: Discrepancy between trainable weights and collected trainable weights, did you set `model.trainable` without calling `model.compile` after ?\n",
      "  'Discrepancy between trainable weights and collected trainable'\n"
     ]
    },
    {
     "name": "stdout",
     "output_type": "stream",
     "text": [
      "\n",
      "Epoch 1010000/1100000 | Time: 1937s\n",
      ">> Generator/GAN: loss=0.0133, Adversarial_loss=2.6128, Content_loss=1.7875\n",
      ">> Discriminator: loss=0.2314, accuracy=0.9090\n",
      ">> Validation Losses: loss=0.0066, mse=0.0105, PSNR=21.7635\n",
      ">> Could not perform printing. Maybe matplotlib is not installed.\n",
      "\n",
      "Epoch 1020000/1100000 | Time: 1943s\n",
      ">> Generator/GAN: loss=0.0123, Adversarial_loss=2.1466, Content_loss=1.6900\n",
      ">> Discriminator: loss=0.0809, accuracy=0.9723\n",
      ">> Validation Losses: loss=0.0056, mse=0.0084, PSNR=22.7572\n",
      ">> Could not perform printing. Maybe matplotlib is not installed.\n",
      "\n",
      "Epoch 1030000/1100000 | Time: 1977s\n",
      ">> Generator/GAN: loss=0.0132, Adversarial_loss=3.0263, Content_loss=1.7026\n",
      ">> Discriminator: loss=0.0583, accuracy=0.9799\n",
      ">> Validation Losses: loss=0.0084, mse=0.0114, PSNR=20.6049\n",
      ">> Could not perform printing. Maybe matplotlib is not installed.\n",
      "\n",
      "Epoch 1040000/1100000 | Time: 1963s\n",
      ">> Generator/GAN: loss=0.0177, Adversarial_loss=7.2997, Content_loss=1.7288\n",
      ">> Discriminator: loss=0.0483, accuracy=0.9828\n",
      ">> Validation Losses: loss=0.0076, mse=0.0100, PSNR=21.0388\n",
      ">> Could not perform printing. Maybe matplotlib is not installed.\n",
      "\n",
      "Epoch 1050000/1100000 | Time: 1961s\n",
      ">> Generator/GAN: loss=0.0132, Adversarial_loss=3.1639, Content_loss=1.6802\n",
      ">> Discriminator: loss=0.0556, accuracy=0.9806\n",
      ">> Validation Losses: loss=0.0093, mse=0.0131, PSNR=19.9011\n",
      ">> Could not perform printing. Maybe matplotlib is not installed.\n",
      "\n",
      "Epoch 1060000/1100000 | Time: 1948s\n",
      ">> Generator/GAN: loss=0.0174, Adversarial_loss=7.8676, Content_loss=1.5909\n",
      ">> Discriminator: loss=0.0248, accuracy=0.9921\n",
      ">> Validation Losses: loss=0.0164, mse=0.0257, PSNR=16.1972\n",
      ">> Could not perform printing. Maybe matplotlib is not installed.\n",
      "\n",
      "Epoch 1070000/1100000 | Time: 1975s\n",
      ">> Generator/GAN: loss=0.0146, Adversarial_loss=4.0762, Content_loss=1.7527\n",
      ">> Discriminator: loss=0.0703, accuracy=0.9749\n",
      ">> Validation Losses: loss=0.0038, mse=0.0061, PSNR=23.5640\n",
      ">> Could not perform printing. Maybe matplotlib is not installed.\n",
      "\n",
      "Epoch 1080000/1100000 | Time: 1923s\n",
      ">> Generator/GAN: loss=0.0118, Adversarial_loss=1.8977, Content_loss=1.6494\n",
      ">> Discriminator: loss=0.0459, accuracy=0.9849\n",
      ">> Validation Losses: loss=0.0038, mse=0.0083, PSNR=22.6666\n",
      ">> Could not perform printing. Maybe matplotlib is not installed.\n",
      "\n",
      "Epoch 1090000/1100000 | Time: 1972s\n",
      ">> Generator/GAN: loss=0.0101, Adversarial_loss=1.0519, Content_loss=1.5133\n",
      ">> Discriminator: loss=0.0280, accuracy=0.9909\n",
      ">> Validation Losses: loss=0.0040, mse=0.0077, PSNR=22.7411\n",
      ">> Could not perform printing. Maybe matplotlib is not installed.\n",
      ">> Found 1656 images in dataset\n",
      ">> Found 72 images in dataset\n"
     ]
    },
    {
     "name": "stderr",
     "output_type": "stream",
     "text": [
      "/usr/local/lib/python3.7/dist-packages/keras/engine/training.py:297: UserWarning: Discrepancy between trainable weights and collected trainable weights, did you set `model.trainable` without calling `model.compile` after ?\n",
      "  'Discrepancy between trainable weights and collected trainable'\n"
     ]
    },
    {
     "name": "stdout",
     "output_type": "stream",
     "text": [
      "\n",
      "Epoch 1000000/1100000 | Time: 39s\n",
      ">> Generator/GAN: loss=0.0101, Adversarial_loss=0.0302, Content_loss=1.6833\n",
      ">> Discriminator: loss=0.0006, accuracy=1.0000\n",
      ">> Validation Losses: loss=0.0054, mse=0.0105, PSNR=22.3529\n",
      ">> Could not perform printing. Maybe matplotlib is not installed.\n"
     ]
    },
    {
     "name": "stderr",
     "output_type": "stream",
     "text": [
      "/usr/local/lib/python3.7/dist-packages/keras/engine/training.py:297: UserWarning: Discrepancy between trainable weights and collected trainable weights, did you set `model.trainable` without calling `model.compile` after ?\n",
      "  'Discrepancy between trainable weights and collected trainable'\n"
     ]
    },
    {
     "name": "stdout",
     "output_type": "stream",
     "text": [
      "\n",
      "Epoch 1010000/1100000 | Time: 2107s\n",
      ">> Generator/GAN: loss=0.0079, Adversarial_loss=0.1434, Content_loss=1.2941\n",
      ">> Discriminator: loss=0.0019, accuracy=0.9995\n",
      ">> Validation Losses: loss=0.0031, mse=0.0060, PSNR=23.8868\n",
      ">> Could not perform printing. Maybe matplotlib is not installed.\n",
      "\n",
      "Epoch 1020000/1100000 | Time: 2003s\n",
      ">> Generator/GAN: loss=0.0075, Adversarial_loss=0.0865, Content_loss=1.2347\n",
      ">> Discriminator: loss=0.0007, accuracy=0.9998\n",
      ">> Validation Losses: loss=0.0034, mse=0.0062, PSNR=23.7676\n",
      ">> Could not perform printing. Maybe matplotlib is not installed.\n",
      "\n",
      "Epoch 1030000/1100000 | Time: 2003s\n",
      ">> Generator/GAN: loss=0.0072, Adversarial_loss=0.0586, Content_loss=1.1957\n",
      ">> Discriminator: loss=0.0002, accuracy=0.9999\n",
      ">> Validation Losses: loss=0.0043, mse=0.0070, PSNR=23.1304\n",
      ">> Could not perform printing. Maybe matplotlib is not installed.\n",
      "\n",
      "Epoch 1040000/1100000 | Time: 2006s\n",
      ">> Generator/GAN: loss=0.0072, Adversarial_loss=0.0803, Content_loss=1.1806\n",
      ">> Discriminator: loss=0.0006, accuracy=0.9999\n",
      ">> Validation Losses: loss=0.0039, mse=0.0066, PSNR=23.8440\n",
      ">> Could not perform printing. Maybe matplotlib is not installed.\n",
      "\n",
      "Epoch 1050000/1100000 | Time: 2002s\n",
      ">> Generator/GAN: loss=0.0070, Adversarial_loss=0.0512, Content_loss=1.1568\n",
      ">> Discriminator: loss=0.0001, accuracy=1.0000\n",
      ">> Validation Losses: loss=0.0044, mse=0.0062, PSNR=23.9239\n",
      ">> Could not perform printing. Maybe matplotlib is not installed.\n",
      "\n",
      "Epoch 1060000/1100000 | Time: 2015s\n",
      ">> Generator/GAN: loss=0.0069, Adversarial_loss=0.0604, Content_loss=1.1356\n",
      ">> Discriminator: loss=0.0002, accuracy=1.0000\n",
      ">> Validation Losses: loss=0.0037, mse=0.0064, PSNR=23.9707\n",
      ">> Could not perform printing. Maybe matplotlib is not installed.\n",
      "\n",
      "Epoch 1070000/1100000 | Time: 2022s\n",
      ">> Generator/GAN: loss=0.0067, Adversarial_loss=0.0432, Content_loss=1.1126\n",
      ">> Discriminator: loss=0.0001, accuracy=1.0000\n",
      ">> Validation Losses: loss=0.0048, mse=0.0072, PSNR=23.3243\n",
      ">> Could not perform printing. Maybe matplotlib is not installed.\n",
      "\n",
      "Epoch 1080000/1100000 | Time: 2033s\n",
      ">> Generator/GAN: loss=0.0066, Adversarial_loss=0.0508, Content_loss=1.0915\n",
      ">> Discriminator: loss=0.0001, accuracy=1.0000\n",
      ">> Validation Losses: loss=0.0041, mse=0.0079, PSNR=23.4611\n",
      ">> Could not perform printing. Maybe matplotlib is not installed.\n",
      "\n",
      "Epoch 1090000/1100000 | Time: 2074s\n",
      ">> Generator/GAN: loss=0.0065, Adversarial_loss=0.0366, Content_loss=1.0721\n",
      ">> Discriminator: loss=0.0001, accuracy=1.0000\n",
      ">> Validation Losses: loss=0.0038, mse=0.0069, PSNR=23.6142\n",
      ">> Could not perform printing. Maybe matplotlib is not installed.\n"
     ]
    }
   ],
   "source": [
    "%run train.py \\\n",
    "--train data/NEU/train/ \\\n",
    "--validation data/NEU/valid/ \\\n",
    "--scale 4 \\\n",
    "--test_path data/Sc_109.jpg \\\n",
    "--stage all"
   ]
  }
 ],
 "metadata": {
  "accelerator": "GPU",
  "colab": {
   "authorship_tag": "ABX9TyMsrqNC2Pqp8V2MqAjxlA/f",
   "collapsed_sections": [],
   "machine_shape": "hm",
   "name": "srgan.ipynb",
   "provenance": []
  },
  "kernelspec": {
   "display_name": "Python 3",
   "language": "python",
   "name": "python3"
  },
  "language_info": {
   "codemirror_mode": {
    "name": "ipython",
    "version": 3
   },
   "file_extension": ".py",
   "mimetype": "text/x-python",
   "name": "python",
   "nbconvert_exporter": "python",
   "pygments_lexer": "ipython3",
   "version": "3.8.5"
  }
 },
 "nbformat": 4,
 "nbformat_minor": 1
}
